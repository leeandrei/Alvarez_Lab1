{
 "cells": [
  {
   "cell_type": "markdown",
   "metadata": {},
   "source": [
    "<h2>Linear Algebra (CpE210A)<b>"
   ]
  },
  {
   "cell_type": "markdown",
   "metadata": {},
   "source": [
    "<h4><b>Laboratory 1: Getting acquainted by Python<b>"
   ]
  },
  {
   "cell_type": "markdown",
   "metadata": {},
   "source": [
    "<h5>Coded and Submitted by:<h5>\n",
    "<h5><i>Alvarez, Lee Andrei D.<i>\n",
    "<h5><i>58011<i>"
   ]
  },
  {
   "cell_type": "markdown",
   "metadata": {},
   "source": [
    "<h5><b>Lab Exercises:<b>"
   ]
  },
  {
   "cell_type": "code",
   "execution_count": 5,
   "metadata": {},
   "outputs": [
    {
     "name": "stdout",
     "output_type": "stream",
     "text": [
      "Charmander at level 15\n",
      "Pidgey at level 11\n",
      "Sandshrew at level 18\n",
      "Ratata at level 5\n",
      "Abra at level 14\n"
     ]
    }
   ],
   "source": [
    "pt = [['Charmander', 'Pidgey', 'Sandshrew', 'Ratata', 'Abra'][x] +\" at level \" +[\"15\", \"11\", \"18\", \"5\", \"14\"][x] for x in range(5)]\n",
    "print (*pt, sep=\"\\n\")\n",
    "\n"
   ]
  },
  {
   "cell_type": "code",
   "execution_count": 6,
   "metadata": {},
   "outputs": [
    {
     "name": "stdout",
     "output_type": "stream",
     "text": [
      "['Dialga', 'Regigigas', 'Onix']\n"
     ]
    }
   ],
   "source": [
    "reserves = [\n",
    "    ('Onix', 10),\n",
    "    ('Slowpoke', 18),\n",
    "    ('Dialga', 2),\n",
    "    ('Magikarp', 32),\n",
    "    ('Feebas', 22),\n",
    "    ('Swablu', 19),\n",
    "    ('Regigigas', 3),\n",
    "    ('Unown', 50)\n",
    "] \n",
    "reserves.sort(key = lambda x:x[1])\n",
    "digimon = [('Dialga', 2), ('Regigigas', 3), ('Onix', 10)]\n",
    "x = []\n",
    "for a_digimon in digimon:\n",
    "    x.append(a_digimon[0])\n",
    "print(x)"
   ]
  },
  {
   "cell_type": "code",
   "execution_count": 7,
   "metadata": {},
   "outputs": [
    {
     "name": "stdout",
     "output_type": "stream",
     "text": [
      "['Charmander', 'Pidgey', 'Sandshrew', 'Rattata', 'Abra', 'Unown']\n",
      "['Charmander', 'Pidgey', 'Sandshrew', 'Rattata', 'Abra', 'Magikarp']\n",
      "['Charmander', 'Pidgey', 'Sandshrew', 'Rattata', 'Abra', 'Feebas']\n"
     ]
    }
   ],
   "source": [
    "pt = ['Charmander', 'Pidgey', 'Sandshrew', 'Rattata', 'Abra']\n",
    "reserves = [\n",
    "    ('Onix', 10),\n",
    "    ('Slowpoke', 18),\n",
    "    ('Dialga', 2),\n",
    "    ('Magikarp', 32),\n",
    "    ('Feebas', 22),\n",
    "    ('Swablu', 19),\n",
    "    ('Regigigas', 3),\n",
    "    ('Unown', 50)\n",
    "] \n",
    "reserves.sort(key = lambda x:x[1], reverse=True)\n",
    "digimon = [('Unown', 50), ('Magikarp', 32), ('Feebas', 22)]\n",
    "def create_party(party, candidates):\n",
    "    x= []\n",
    "    \n",
    "    for a_digimon in digimon:\n",
    "        \n",
    "        suggested_party = pt.copy()\n",
    "        suggested_party.append(a_digimon[0])\n",
    "        x.append(suggested_party)\n",
    "    \n",
    "    return x\n",
    "print(*create_party(pt, reserves), sep=\"\\n\")"
   ]
  },
  {
   "cell_type": "code",
   "execution_count": null,
   "metadata": {},
   "outputs": [],
   "source": []
  }
 ],
 "metadata": {
  "kernelspec": {
   "display_name": "Python 3",
   "language": "python",
   "name": "python3"
  },
  "language_info": {
   "codemirror_mode": {
    "name": "ipython",
    "version": 3
   },
   "file_extension": ".py",
   "mimetype": "text/x-python",
   "name": "python",
   "nbconvert_exporter": "python",
   "pygments_lexer": "ipython3",
   "version": "3.8.3"
  }
 },
 "nbformat": 4,
 "nbformat_minor": 4
}
